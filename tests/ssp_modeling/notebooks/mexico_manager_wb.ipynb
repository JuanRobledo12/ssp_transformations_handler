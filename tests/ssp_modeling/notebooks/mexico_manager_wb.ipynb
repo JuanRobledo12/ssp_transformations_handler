{
 "cells": [
  {
   "cell_type": "code",
   "execution_count": null,
   "id": "2a29eb0a-00ee-494d-9b3d-25da412bf1d5",
   "metadata": {},
   "outputs": [
    {
     "ename": "",
     "evalue": "",
     "output_type": "error",
     "traceback": [
      "\u001b[1;31mRunning cells with 'test_package_env (Python 3.11.11)' requires the ipykernel package.\n",
      "\u001b[1;31m<a href='command:jupyter.createPythonEnvAndSelectController'>Create a Python Environment</a> with the required packages.\n",
      "\u001b[1;31mOr install 'ipykernel' using the command: 'conda install -n test_package_env ipykernel --update-deps --force-reinstall'"
     ]
    }
   ],
   "source": [
    "import copy\n",
    "import datetime as dt\n",
    "import importlib # needed so that we can reload packages\n",
    "import matplotlib.pyplot as plt\n",
    "import os, os.path\n",
    "import numpy as np\n",
    "import pandas as pd\n",
    "import pathlib\n",
    "import sys\n",
    "import time\n",
    "from typing import Union\n",
    "import warnings\n",
    "from datetime import datetime\n",
    "warnings.filterwarnings(\"ignore\")\n",
    "\n",
    "##  IMPORT SISEPUEDE EXAMPLES AND TRANSFORMERS\n",
    "\n",
    "from sisepuede.manager.sisepuede_examples import SISEPUEDEExamples\n",
    "from sisepuede.manager.sisepuede_file_structure import SISEPUEDEFileStructure\n",
    "import sisepuede.core.support_classes as sc\n",
    "import sisepuede.transformers as trf\n",
    "import sisepuede.utilities._plotting as spu\n",
    "import sisepuede.utilities._toolbox as sf"
   ]
  },
  {
   "cell_type": "code",
   "execution_count": null,
   "id": "49d7c0b6",
   "metadata": {},
   "outputs": [],
   "source": [
    "%load_ext autoreload\n",
    "%autoreload 2"
   ]
  },
  {
   "cell_type": "markdown",
   "id": "f0483f2b",
   "metadata": {},
   "source": [
    "### Initial Set up\n",
    "\n",
    "Make sure to edit the config yaml under croatia/config_files/croatia_config.yaml\n",
    "\n",
    "You can also create a new config yaml\n",
    "\n"
   ]
  },
  {
   "cell_type": "code",
   "execution_count": null,
   "id": "aebcd791",
   "metadata": {},
   "outputs": [],
   "source": [
    "# Set up dir paths\n",
    "\n",
    "dir_cur = pathlib.Path(os.getcwd())\n",
    "dir_ssp_modeling = dir_cur.parent\n",
    "dir_project = dir_ssp_modeling.parent\n",
    "dir_data = dir_ssp_modeling.joinpath(\"input_data\")\n",
    "dir_scenario_mapping = dir_ssp_modeling.joinpath(\"scenario_mapping\")\n",
    "dir_config = dir_ssp_modeling.joinpath(\"config_files\")\n",
    "dir_transformations = dir_ssp_modeling.joinpath(\"transformations\")\n",
    "dir_misc = dir_ssp_modeling.joinpath(\"misc\")\n",
    "strategies_definitions_file_path = dir_transformations.joinpath(\"strategy_definitions.csv\")\n",
    "strategy_mapping_file_path = dir_misc.joinpath(\"strategy_mapping.yaml\")"
   ]
  },
  {
   "cell_type": "code",
   "execution_count": null,
   "id": "81fd32d9",
   "metadata": {},
   "outputs": [],
   "source": [
    "path_ok = os.path.join(dir_project.parent, 'src/ssp_transformations_handler')"
   ]
  },
  {
   "cell_type": "code",
   "execution_count": null,
   "id": "ac941c9a",
   "metadata": {},
   "outputs": [],
   "source": [
    "import sys\n",
    "sys.path.append(path_ok)\n",
    "from GeneralUtils import GeneralUtils\n",
    "from TransformationUtils import TransformationYamlProcessor, StrategyCSVHandler\n",
    "\n",
    "# Initialize general utilities\n",
    "g_utils = GeneralUtils()"
   ]
  },
  {
   "cell_type": "code",
   "execution_count": null,
   "id": "53908ee6",
   "metadata": {},
   "outputs": [],
   "source": [
    "# Load config file, double check your parameters are correct\n",
    "\n",
    "yaml_file_path = os.path.join(dir_config, \"mexico_config.yaml\")\n",
    "config_params = g_utils.read_yaml(yaml_file_path)\n",
    "country_name = config_params['country_name']\n",
    "ssp_input_file_name = config_params['ssp_input_file_name']\n",
    "ssp_transformation_cw = config_params['ssp_transformation_cw']\n",
    "energy_model_flag = config_params['energy_model_flag']\n"
   ]
  },
  {
   "cell_type": "code",
   "execution_count": null,
   "id": "62c6c558-ba2c-482b-8743-7c46bfb64924",
   "metadata": {},
   "outputs": [],
   "source": [
    "# Set up SSP objects\n",
    "\n",
    "fp_data_base = dir_data.joinpath(ssp_input_file_name)\n",
    "\n",
    "file_struct = SISEPUEDEFileStructure()\n",
    "\n",
    "matt = file_struct.model_attributes\n",
    "regions = sc.Regions(matt)\n",
    "time_periods = sc.TimePeriods(matt)"
   ]
  },
  {
   "cell_type": "markdown",
   "id": "10f64c6a",
   "metadata": {},
   "source": [
    "### Making sure our input file has the correct format and correct columns\n",
    "We use an example df with the complete fields and correct format to make sure our file is in the right shape"
   ]
  },
  {
   "cell_type": "code",
   "execution_count": null,
   "id": "b8a1e26f-7946-4f4f-a3b1-ff398c9fe211",
   "metadata": {},
   "outputs": [],
   "source": [
    "##  BUILD BASE INPUTS\n",
    "\n",
    "df_inputs_raw = pd.read_csv(fp_data_base)\n",
    "\n",
    "# pull example data to fill in gaps\n",
    "examples = SISEPUEDEExamples()\n",
    "df_inputs_example = examples.input_data_frame"
   ]
  },
  {
   "cell_type": "code",
   "execution_count": null,
   "id": "4cc785b0",
   "metadata": {},
   "outputs": [],
   "source": [
    "g_utils.check_frac_groups(df_inputs_raw, os.path.join(dir_misc, \"energy_frac_vars.xlsx\"))"
   ]
  },
  {
   "cell_type": "code",
   "execution_count": null,
   "id": "f8ef5fcc",
   "metadata": {},
   "outputs": [],
   "source": [
    "df_inputs_example.head()"
   ]
  },
  {
   "cell_type": "code",
   "execution_count": null,
   "id": "0810a41f",
   "metadata": {},
   "outputs": [],
   "source": [
    "# Checks if there are any differences in columns between the example df and our df\n",
    "g_utils.compare_dfs(df_inputs_example, df_inputs_raw)\n"
   ]
  },
  {
   "cell_type": "code",
   "execution_count": null,
   "id": "1fc0a964",
   "metadata": {},
   "outputs": [],
   "source": [
    "help(g_utils.remove_additional_cols)"
   ]
  },
  {
   "cell_type": "code",
   "execution_count": null,
   "id": "8d18008b",
   "metadata": {},
   "outputs": [],
   "source": [
    "# Fixes differences and makes sure that our df is in the correct format.\n",
    "# Note: Edit this if you need more changes in your df\n",
    "\n",
    "df_inputs_raw = df_inputs_raw.rename(columns={'period':'time_period'})\n",
    "df_inputs_raw_complete = g_utils.add_missing_cols(df_inputs_example, df_inputs_raw.copy())\n",
    "df_inputs_raw_complete = g_utils.remove_additional_cols(df_inputs_example, df_inputs_raw_complete.copy())\n",
    "df_inputs_raw_complete = df_inputs_raw_complete.drop(columns='iso_code3', errors='ignore')\n",
    "df_inputs_raw_complete.head()"
   ]
  },
  {
   "cell_type": "code",
   "execution_count": null,
   "id": "32f1d947",
   "metadata": {},
   "outputs": [],
   "source": [
    "# Double checking that our df is in the correct shape (Empty sets should be printed to make sure everything is Ok!)\n",
    "g_utils.compare_dfs(df_inputs_example, df_inputs_raw_complete)"
   ]
  },
  {
   "cell_type": "code",
   "execution_count": null,
   "id": "85a00eb0",
   "metadata": {},
   "outputs": [],
   "source": [
    "# Checking if there are any columns with null values in it\n",
    "columns_with_na = df_inputs_raw_complete.columns[df_inputs_raw_complete.isna().any()].tolist()\n",
    "\n",
    "print(columns_with_na)"
   ]
  },
  {
   "cell_type": "code",
   "execution_count": null,
   "id": "7ad14109",
   "metadata": {},
   "outputs": [],
   "source": [
    "# Checking region to avoid copy errors\n",
    "df_inputs_raw_complete['region'].head()"
   ]
  },
  {
   "cell_type": "code",
   "execution_count": null,
   "id": "5a6d5d14",
   "metadata": {},
   "outputs": [],
   "source": [
    "# Set region to country name\n",
    "df_inputs_raw_complete['region'] = country_name\n",
    "df_inputs_raw_complete['region'].head()"
   ]
  },
  {
   "cell_type": "code",
   "execution_count": null,
   "id": "16779cb6",
   "metadata": {},
   "outputs": [],
   "source": [
    "# Normalize ENERGY frac_vars\n",
    "g_utils.check_frac_groups(df_inputs_raw_complete, os.path.join(dir_misc, \"energy_frac_vars.xlsx\"))"
   ]
  },
  {
   "cell_type": "code",
   "execution_count": null,
   "id": "a2813690",
   "metadata": {},
   "outputs": [],
   "source": [
    "df_inputs_raw_complete[[col for col in df_inputs_raw_complete.columns if 'frac_enfu_fuel_demand' in col]]"
   ]
  },
  {
   "cell_type": "code",
   "execution_count": null,
   "id": "5d2fc8b2",
   "metadata": {},
   "outputs": [],
   "source": [
    "g_utils.check_individual_frac_vars(df_inputs_raw_complete)"
   ]
  },
  {
   "cell_type": "code",
   "execution_count": null,
   "id": "6b3cbc76",
   "metadata": {},
   "outputs": [],
   "source": [
    "g_utils.check_individual_frac_vars(df_inputs_example)"
   ]
  },
  {
   "cell_type": "code",
   "execution_count": null,
   "id": "b0bcb031",
   "metadata": {},
   "outputs": [],
   "source": [
    "frac_fuel_demand_cols = [col for col in df_inputs_raw_complete.columns if 'frac_enfu_fuel_demand' in col]\n",
    "frac_trns_fuelmix_rail_passenger = [col for col in df_inputs_raw_complete.columns if 'frac_trns_fuelmix_rail_passenger' in col]\n",
    "\n",
    "print(frac_fuel_demand_cols)\n",
    "print(frac_trns_fuelmix_rail_passenger)"
   ]
  },
  {
   "cell_type": "code",
   "execution_count": null,
   "id": "1f9e8d5d",
   "metadata": {},
   "outputs": [],
   "source": [
    "# Update the fuel demand columns\n",
    "df_inputs_raw_complete.update(df_inputs_example[frac_fuel_demand_cols].fillna(0))\n",
    "df_inputs_raw_complete.update(df_inputs_example[frac_trns_fuelmix_rail_passenger].fillna(0))"
   ]
  },
  {
   "cell_type": "code",
   "execution_count": null,
   "id": "9e0acb7b",
   "metadata": {},
   "outputs": [],
   "source": [
    "df_inputs_raw_complete.to_csv(dir_data.joinpath('mexico_input_fixed.csv'), index=False)"
   ]
  },
  {
   "cell_type": "markdown",
   "id": "91491c34-78de-4bf9-bed3-3d69613bace7",
   "metadata": {},
   "source": [
    "#  Let's try building transformations using this\n"
   ]
  },
  {
   "cell_type": "code",
   "execution_count": null,
   "id": "8f21339f-7e93-4123-aa07-8a12f0316756",
   "metadata": {},
   "outputs": [],
   "source": [
    "transformers = trf.transformers.Transformers(\n",
    "    {},\n",
    "    df_input = df_inputs_raw_complete,\n",
    ")"
   ]
  },
  {
   "cell_type": "markdown",
   "id": "d93521f1-0fa0-4f09-9b6e-def5662df3d8",
   "metadata": {},
   "source": [
    "##  Instantiate some transformations. Make sure to run this cell to create the transformations folder for the first time or if you wish to overwrite"
   ]
  },
  {
   "cell_type": "code",
   "execution_count": null,
   "id": "e85aa9b2-412c-44f7-b75f-3bc486202843",
   "metadata": {},
   "outputs": [],
   "source": [
    "# set an ouput path and instantiate\n",
    "if not dir_transformations.exists():\n",
    "    trf.instantiate_default_strategy_directory(\n",
    "        transformers,\n",
    "        dir_transformations,\n",
    "    )\n",
    "else:\n",
    "    print(f\"Directory {dir_transformations} already exists. Skipping instantiation.\")\n"
   ]
  },
  {
   "cell_type": "markdown",
   "id": "14522780-2f45-4402-8889-365f1d319303",
   "metadata": {},
   "source": [
    "##  --HERE, CUSTOMIZE YOUR TRANSFORMATIONS AND STRATEGIES--"
   ]
  },
  {
   "cell_type": "markdown",
   "id": "03361640",
   "metadata": {},
   "source": [
    "### Customizing transformations and strategies files using TransformationUtils.py classes"
   ]
  },
  {
   "cell_type": "code",
   "execution_count": null,
   "id": "c9b845dd",
   "metadata": {},
   "outputs": [],
   "source": []
  },
  {
   "cell_type": "code",
   "execution_count": null,
   "id": "cd47d570",
   "metadata": {},
   "outputs": [],
   "source": [
    "# Generate new transformation files based on the excel mapping file. \n",
    "# Make sure to have the most updated format for the excel file, check the one used in this notebook for reference.\n",
    "\n",
    "cw_file_path = os.path.join(dir_scenario_mapping, ssp_transformation_cw)\n",
    "print(cw_file_path)\n",
    "excel_yaml_handler = TransformationYamlProcessor(cw_file_path, dir_transformations)"
   ]
  },
  {
   "cell_type": "code",
   "execution_count": null,
   "id": "ddac9676",
   "metadata": {},
   "outputs": [],
   "source": [
    "# This creates transformation yaml files for each strategy in the excel file\n",
    "\n",
    "# Use if its the first time you are running this\n",
    "# excel_yaml_handler.process_yaml_files()\n",
    "\n",
    "# Use if you have already created the yaml files and just want to update them so the transformations with multiple params are not overwritten\n",
    "# NOTE: This is a temporary solution, we need to find a better way to handle this\n",
    "excel_yaml_handler.process_yaml_files()"
   ]
  },
  {
   "cell_type": "code",
   "execution_count": null,
   "id": "d42f66a2",
   "metadata": {},
   "outputs": [],
   "source": [
    "# Load the transformations per strategy dictionary so we can pass it to the strategy handler\n",
    "# You can also check here if the transformations in each strategy are correct\n",
    "transformation_per_strategy_dict = excel_yaml_handler.get_transformations_per_strategy_dict()\n",
    "transformation_per_strategy_dict"
   ]
  },
  {
   "cell_type": "markdown",
   "id": "cb689de1",
   "metadata": {},
   "source": [
    "### Creating new strategies\n",
    "- You can create new strategies from scratch.\n",
    "- You can also update existing ones."
   ]
  },
  {
   "cell_type": "code",
   "execution_count": null,
   "id": "ea277ea6",
   "metadata": {},
   "outputs": [],
   "source": [
    "# Creating new strategies by updating the strategy_definitions file.\n",
    "# You can edit this to add yours, as many as you want.\n",
    "csv_handler = StrategyCSVHandler(strategies_definitions_file_path, dir_transformations, strategy_mapping_file_path, transformation_per_strategy_dict)\n",
    "\n",
    "# Uncomment for completly new strategies version\n",
    "csv_handler.add_strategy(strategy_group='PFLO', description='Mexico M8 Economia Circular', yaml_file_suffix='M8_EC')\n",
    "csv_handler.add_strategy(strategy_group='PFLO', description='Mexico M7 Eficiencia Energetica', yaml_file_suffix='M7_EE')\n",
    "csv_handler.add_strategy(strategy_group='PFLO', description='Mexico M6 Fomento al Transporte Ferroviario', yaml_file_suffix='M6_TF')\n",
    "csv_handler.add_strategy(strategy_group='PFLO', description='Mexico M5 Estrategia de Trabajo Remoto', yaml_file_suffix='M5_TR')\n",
    "csv_handler.add_strategy(strategy_group='PFLO', description='Mexico M4 Pacto de Glasgow por la Electromovilidad', yaml_file_suffix='M4_EV')\n",
    "csv_handler.add_strategy(strategy_group='PFLO', description='Mexico M3 Estrategia de Carbono Azul', yaml_file_suffix='M3_CA')\n",
    "csv_handler.add_strategy(strategy_group='PFLO', description='Mexico M2 Nuevas Areas Naturales Protegidas', yaml_file_suffix='M2_ANP')\n",
    "csv_handler.add_strategy(strategy_group='PFLO', description='Mexico Programa Sembrando Vida', yaml_file_suffix='SV')"
   ]
  },
  {
   "cell_type": "code",
   "execution_count": null,
   "id": "cf8763ef",
   "metadata": {},
   "outputs": [],
   "source": [
    "# Set up the strategy codes you wish to run in ssp\n",
    "strategies_to_run = [0, 6003, 6004, 6005, 6006, 6007, 6008, 6009, 6010]"
   ]
  },
  {
   "cell_type": "markdown",
   "id": "5b7c7b74",
   "metadata": {},
   "source": [
    "### We finished adding new transformation files and strategies so lets load them back"
   ]
  },
  {
   "cell_type": "code",
   "execution_count": null,
   "id": "57bd1a2f-4f3e-4c78-b9a6-b00446ee44ad",
   "metadata": {},
   "outputs": [],
   "source": [
    "# then, you can load this back in after modifying (play around with it)\n",
    "transformations = trf.Transformations(\n",
    "    dir_transformations,\n",
    "    transformers = transformers,\n",
    ")\n",
    "tab = transformations.attribute_transformation.table"
   ]
  },
  {
   "cell_type": "code",
   "execution_count": null,
   "id": "d20cd07a-feb1-4b4c-a755-43d0f639e3c7",
   "metadata": {},
   "outputs": [],
   "source": [
    "#  build the strategies -- will export to path\n",
    "t0 = time.time()\n",
    "strategies = trf.Strategies(\n",
    "    transformations,\n",
    "    export_path = \"transformations\",\n",
    "    prebuild = True,\n",
    ")\n",
    "\n",
    "t_elapse = sf.get_time_elapsed(t0)\n",
    "print(f\"Strategies defined at {strategies.transformations.dir_init} initialized in {t_elapse} seconds\")"
   ]
  },
  {
   "cell_type": "code",
   "execution_count": null,
   "id": "937acf95-47c5-42d2-bec4-1960ca8bb3b1",
   "metadata": {},
   "outputs": [],
   "source": [
    "strategies.attribute_table"
   ]
  },
  {
   "cell_type": "markdown",
   "id": "960373ce-9c92-4998-87e1-79563b4b7800",
   "metadata": {},
   "source": [
    "##  Build our templates\n",
    "- let's use the default variable groupings for LHS"
   ]
  },
  {
   "cell_type": "code",
   "execution_count": null,
   "id": "fb46000c-f47a-4fcd-ae46-44bf7fab2e99",
   "metadata": {},
   "outputs": [],
   "source": [
    "# Building excel templates, make sure to include the strategies ids in the strategies attribute as well as the baseline (0)\n",
    "df_vargroups = examples(\"variable_trajectory_group_specification\")\n",
    "\n",
    "strategies.build_strategies_to_templates(\n",
    "    df_trajgroup = df_vargroups,\n",
    "    include_simplex_group_as_trajgroup = True,\n",
    "    strategies = strategies_to_run,\n",
    ")"
   ]
  },
  {
   "cell_type": "markdown",
   "id": "dec04da7-dd23-437c-bcc2-fd63541c44f5",
   "metadata": {},
   "source": [
    "# Finally, load SISEPUEDE so that we can run it"
   ]
  },
  {
   "cell_type": "code",
   "execution_count": null,
   "id": "31e4a440",
   "metadata": {},
   "outputs": [],
   "source": [
    "country_name"
   ]
  },
  {
   "cell_type": "code",
   "execution_count": null,
   "id": "749d1cae-41a3-4344-b0ff-db9d8d41a619",
   "metadata": {
    "collapsed": true,
    "jupyter": {
     "outputs_hidden": true
    }
   },
   "outputs": [],
   "source": [
    "import sisepuede as si\n",
    "# timestamp_str = datetime.now().strftime(\"%Y-%m-%d %H:%M:%S\")\n",
    "ssp = si.SISEPUEDE(\n",
    "    \"calibrated\",\n",
    "    db_type = \"csv\",\n",
    "    # id_str = f\"sisepuede_run_2024-11-04T09:23:26.721580\",\n",
    "    initialize_as_dummy = not(energy_model_flag), # no connection to Julia is initialized if set to True\n",
    "    regions = [country_name],\n",
    "    strategies = strategies,\n",
    "    try_exogenous_xl_types_in_variable_specification = True,\n",
    ")"
   ]
  },
  {
   "cell_type": "code",
   "execution_count": null,
   "id": "ace8ea38",
   "metadata": {},
   "outputs": [],
   "source": [
    "not(energy_model_flag)"
   ]
  },
  {
   "cell_type": "code",
   "execution_count": null,
   "id": "3e24634e-19a9-457f-909f-be5696f1ed14",
   "metadata": {
    "collapsed": true,
    "jupyter": {
     "outputs_hidden": true
    }
   },
   "outputs": [],
   "source": [
    "# This runs the model, make sure you edit key_stretegy with the strategy ids you want to execute include baseline (0)\n",
    "dict_scens = {\n",
    "    ssp.key_design: [0],\n",
    "    ssp.key_future: [0],\n",
    "    ssp.key_strategy: strategies_to_run,\n",
    "}\n",
    "\n",
    "ssp.project_scenarios(\n",
    "    dict_scens,\n",
    "    save_inputs = True,\n",
    "    include_electricity_in_energy = energy_model_flag\n",
    ")"
   ]
  },
  {
   "cell_type": "code",
   "execution_count": null,
   "id": "5095a3bd-5f6e-44a5-bc79-23d947f40e59",
   "metadata": {},
   "outputs": [],
   "source": [
    "# df_run = ssp.generate_scenario_database_from_primary_key(0)\n",
    "# df_run = df_run.get(\"iran\")\n",
    "# df_run.to_csv(\"/Users/usuario/Desktop/iran_baselines_temp.csv\", encoding = \"UTF-8\", index = None, )"
   ]
  },
  {
   "cell_type": "code",
   "execution_count": null,
   "id": "618f54b8-82f4-47e0-99a0-47b894039ccc",
   "metadata": {},
   "outputs": [],
   "source": [
    "# Read input and output files\n",
    "df_out = ssp.read_output(None)\n",
    "df_in = ssp.read_input(None)"
   ]
  },
  {
   "cell_type": "markdown",
   "id": "ae9ab8fe-ce54-40a0-8cee-3cb9149b6b10",
   "metadata": {},
   "source": [
    "# option to pass `df_out` back to data_modifications\n",
    "- do this if the outputs are needed to rescale input demand values to match IEA data"
   ]
  },
  {
   "cell_type": "code",
   "execution_count": null,
   "id": "e1735f20-f4be-46e7-8d01-9df2774991b0",
   "metadata": {},
   "outputs": [],
   "source": [
    "# (\n",
    "#     df_out\n",
    "#     .to_csv(\n",
    "#         dir_data.joinpath(\"sisepuede_outputs_iran_preiea.csv\"),\n",
    "#         index = None,\n",
    "#         encoding = \"UTF-8\",\n",
    "#     )\n",
    "# )"
   ]
  },
  {
   "cell_type": "code",
   "execution_count": null,
   "id": "99c23348-43e8-4b9d-bd5c-d0610315d2f9",
   "metadata": {},
   "outputs": [],
   "source": [
    "\n",
    "fig, ax = plt.subplots(figsize = (18, 8))\n",
    "ax.set_xlabel(\"Time Period\")\n",
    "ax.set_ylabel(\"MT Emissions CO2e \")\n",
    "\n",
    "df_plot = df_out[\n",
    "    df_out[ssp.key_primary].isin([71071])\n",
    "]\n",
    "\n",
    "\n",
    "fields = matt.get_all_subsector_emission_total_fields()#[x for x in df_out.columns if (x.startswith(\"emission_co2e_subsector_total\"))]\n",
    "dict_format = dict(\n",
    "    (k, {\"color\": v}) for (k, v) in\n",
    "    matt.get_subsector_color_map().items()\n",
    ")\n",
    "\n",
    "fig, ax = spu.plot_stack(\n",
    "    df_plot,\n",
    "    fields,\n",
    "    dict_formatting = dict_format,\n",
    "    field_x = \"time_period\",\n",
    "    figtuple = (fig, ax),\n",
    ")\n"
   ]
  },
  {
   "cell_type": "markdown",
   "id": "5bf46be0-6ab4-4731-b922-eb21eeefef7b",
   "metadata": {},
   "source": [
    "# Export Wide File (Last Mandatory Step)"
   ]
  },
  {
   "cell_type": "code",
   "execution_count": null,
   "id": "f8ac388d-9ff2-45fc-a49a-ad5af38a0b07",
   "metadata": {},
   "outputs": [],
   "source": [
    "df_out = ssp.read_output(None)\n",
    "df_in = ssp.read_input(None)\n",
    "\n",
    "\n",
    "all_primaries = sorted(list(df_out[ssp.key_primary].unique()))\n",
    "\n",
    "# build if unable to simply read the data frame\n",
    "if df_in is None:\n",
    "    df_in = []\n",
    "     \n",
    "    for region in ssp.regions:\n",
    "        for primary in all_primaries: \n",
    "            df_in_filt = ssp.generate_scenario_database_from_primary_key(primary)\n",
    "            df_in.append(df_in_filt.get(region))\n",
    "    \n",
    "    df_in = pd.concat(df_in, axis = 0).reset_index(drop = True)\n",
    "\n",
    "\n",
    "\n",
    "\n",
    "df_export = pd.merge(\n",
    "    df_out,\n",
    "    df_in,\n",
    "    how = \"left\",\n",
    ")\n",
    "\n",
    "\n",
    "\n",
    "# check output directory \n",
    "dir_pkg = os.path.join(\n",
    "    ssp.file_struct.dir_out, \n",
    "    f\"sisepuede_summary_results_run_{ssp.id_fs_safe}\"\n",
    ")\n",
    "os.makedirs(dir_pkg) if not os.path.exists(dir_pkg) else None\n",
    "\n",
    "\n",
    "for tab in [\"ATTRIBUTE_STRATEGY\"]:\n",
    "    table_df = ssp.database.db.read_table(tab)\n",
    "    if table_df is not None:\n",
    "        table_df.to_csv(\n",
    "            os.path.join(dir_pkg, f\"{tab}.csv\"),\n",
    "            index=None,\n",
    "            encoding=\"UTF-8\"\n",
    "        )\n",
    "    else:\n",
    "        print(f\"Warning: Table {tab} returned None.\")\n",
    "\n",
    "\n",
    "df_primary = (\n",
    "    ssp\n",
    "    .odpt_primary\n",
    "    .get_indexing_dataframe(\n",
    "        sorted(list(df_out[ssp.key_primary].unique()))\n",
    "    )\n",
    ")\n",
    "    \n",
    "df_primary.to_csv(\n",
    "    os.path.join(dir_pkg, f\"ATTRIBUTE_PRIMARY.csv\"),\n",
    "    index = None,\n",
    "    encoding = \"UTF-8\"\n",
    ")\n",
    "\n",
    "df_export.to_csv(\n",
    "    os.path.join(dir_pkg, f\"sisepuede_results_{ssp.id_fs_safe}_WIDE_INPUTS_OUTPUTS.csv\"),\n",
    "    index = None,\n",
    "    encoding = \"UTF-8\"\n",
    ")"
   ]
  },
  {
   "cell_type": "code",
   "execution_count": null,
   "id": "4bc34b5e",
   "metadata": {},
   "outputs": [],
   "source": [
    "# Getting the directory where the outputs are stored\n",
    "ssp.file_struct.dir_out"
   ]
  },
  {
   "cell_type": "markdown",
   "id": "f488aa07",
   "metadata": {},
   "source": [
    "## Some Optional Plotting"
   ]
  },
  {
   "cell_type": "code",
   "execution_count": null,
   "id": "291e485f-934d-4c89-ad51-b974fa59569a",
   "metadata": {},
   "outputs": [],
   "source": [
    "# primary_id = 0\n",
    "\n",
    "# df_prim = df_out[\n",
    "#     df_out[\n",
    "#         ssp.key_primary\n",
    "#     ]\n",
    "#     .isin([primary_id])\n",
    "# ]\n",
    "\n",
    "# df_in_cur = df_in[\n",
    "#     df_in[\n",
    "#         ssp.key_primary\n",
    "#     ]\n",
    "#     .isin([primary_id])\n",
    "# ]\n",
    "\n",
    "\n",
    "# fields_plot = [\n",
    "#     x for x in df_prim.columns\n",
    "#     if \"investment\" in x\n",
    "#     and df_prim[x].max() > 0\n",
    "# ]\n",
    "# (\n",
    "#     df_prim[fields_plot]\n",
    "#     .plot(\n",
    "#         legend = True,\n",
    "#     )\n",
    "# )\n",
    "\n",
    "\n"
   ]
  },
  {
   "cell_type": "code",
   "execution_count": null,
   "id": "49f7752e-30f0-4b99-89b9-0371a4aff716",
   "metadata": {},
   "outputs": [],
   "source": [
    "\n",
    "\n",
    "# fig, ax = plt.subplots(figsize = (15, 10))\n",
    "# df_resid = matt.extract_model_variable(\n",
    "#     df_in_cur,\n",
    "#     \"NemoMod ResidualCapacity\"\n",
    "# )\n",
    "# (\n",
    "#     df_resid\n",
    "#     .plot\n",
    "#     .area(\n",
    "#         ax = ax\n",
    "#     )\n",
    "# )"
   ]
  },
  {
   "cell_type": "code",
   "execution_count": null,
   "id": "24701f5e",
   "metadata": {},
   "outputs": [],
   "source": []
  },
  {
   "cell_type": "code",
   "execution_count": null,
   "id": "d452d86c-807e-4411-9860-b2cdb2d86ac9",
   "metadata": {
    "collapsed": true,
    "jupyter": {
     "outputs_hidden": true
    }
   },
   "outputs": [],
   "source": [
    "# df_resid"
   ]
  },
  {
   "cell_type": "code",
   "execution_count": null,
   "id": "20ef7dca-858b-47e7-b627-b6131a182b7d",
   "metadata": {},
   "outputs": [],
   "source": [
    "# [x for x in df_out.columns if \"capacity\" in x]"
   ]
  },
  {
   "cell_type": "code",
   "execution_count": null,
   "id": "cb665a26-5095-4029-ad21-afcffe5af933",
   "metadata": {
    "collapsed": true,
    "jupyter": {
     "outputs_hidden": true
    }
   },
   "outputs": [],
   "source": [
    "# ssp.model_attributes.configuration.dict_config\n"
   ]
  },
  {
   "cell_type": "code",
   "execution_count": null,
   "id": "54bb6790-24b5-4314-b0c7-18ddc8573a41",
   "metadata": {},
   "outputs": [],
   "source": [
    "# modvar = matt.get_variable(\"NemoMod Generation Capacity\")\n",
    "# modvar.get_from_dataframe(df_prim).head()"
   ]
  },
  {
   "cell_type": "code",
   "execution_count": null,
   "id": "953e5ad5-6cfa-432b-a43a-04e7ef733142",
   "metadata": {},
   "outputs": [],
   "source": [
    "# #[x for x in matt.all_variables if \"Consumption\" in x]\n",
    "# [x for x in matt.all_variables if \"Production\" in x]\n",
    "# modvar = matt.get_variable(\"NemoMod Production by Technology\")\n",
    "\n",
    "\n",
    "# unit = matt.get_unit(\"energy\")\n",
    "# (modvar.get_from_dataframe(df_prim).iloc[7].sum()*unit.convert(\"PJ\", \"mwh\")/1000)/367669"
   ]
  },
  {
   "cell_type": "code",
   "execution_count": null,
   "id": "ccad1da2-8e99-41f0-951e-def30b68330a",
   "metadata": {},
   "outputs": [],
   "source": [
    "# df_inputs"
   ]
  },
  {
   "cell_type": "code",
   "execution_count": null,
   "id": "55dd1246-b086-4ae0-bcd8-4b69198ed1d5",
   "metadata": {},
   "outputs": [],
   "source": [
    "# modvar = matt.get_variable(\"Total Energy Consumption from Industrial Energy\")#Industrial Energy\")\n",
    "# matt.extract_model_variable(\n",
    "#     df_prim,\n",
    "#     modvar\n",
    "# )"
   ]
  },
  {
   "cell_type": "code",
   "execution_count": null,
   "id": "fd180cf8-4f09-4817-9970-488a6e3c63f3",
   "metadata": {},
   "outputs": [],
   "source": []
  }
 ],
 "metadata": {
  "kernelspec": {
   "display_name": "test-transformation-handler",
   "language": "python",
   "name": "python3"
  },
  "language_info": {
   "codemirror_mode": {
    "name": "ipython",
    "version": 3
   },
   "file_extension": ".py",
   "mimetype": "text/x-python",
   "name": "python",
   "nbconvert_exporter": "python",
   "pygments_lexer": "ipython3",
   "version": "3.11.11"
  }
 },
 "nbformat": 4,
 "nbformat_minor": 5
}
